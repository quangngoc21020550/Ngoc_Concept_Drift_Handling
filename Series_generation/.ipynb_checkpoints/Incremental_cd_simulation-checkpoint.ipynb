{
 "cells": [
  {
   "cell_type": "code",
   "execution_count": 1,
   "id": "connected-fabric",
   "metadata": {
    "ExecuteTime": {
     "end_time": "2021-12-07T10:34:55.429056Z",
     "start_time": "2021-12-07T10:34:55.427145Z"
    }
   },
   "outputs": [],
   "source": [
    "import pandas as pd\n",
    "import itertools\n",
    "import numpy as np\n",
    "import random\n",
    "from random import choices"
   ]
  },
  {
   "cell_type": "code",
   "execution_count": 2,
   "id": "intellectual-combination",
   "metadata": {
    "ExecuteTime": {
     "end_time": "2021-12-07T10:34:55.605900Z",
     "start_time": "2021-12-07T10:34:55.603313Z"
    }
   },
   "outputs": [],
   "source": [
    "def ts_file_processor(file_name):\n",
    "    with open (file_name,'r') as ts_file:\n",
    "        ts=[]\n",
    "        for i in ts_file:\n",
    "            ts.append(i)\n",
    "    ts=ts[0].split(',')\n",
    "    ts=[float(ts[i]) for i in range(len(ts)) ]\n",
    "    return ts"
   ]
  },
  {
   "cell_type": "code",
   "execution_count": 3,
   "id": "southwest-twenty",
   "metadata": {
    "ExecuteTime": {
     "end_time": "2021-12-07T10:34:57.308189Z",
     "start_time": "2021-12-07T10:34:55.769520Z"
    }
   },
   "outputs": [],
   "source": [
    "file='./original_series/original_series_'\n",
    "names = locals()\n",
    "ts_dict={}\n",
    "for i in range(1,2001):\n",
    "    ts_dict['ts_'+str(i)]=ts_file_processor(file+str(i)+'.txt')"
   ]
  },
  {
   "cell_type": "code",
   "execution_count": 4,
   "id": "closed-formula",
   "metadata": {
    "ExecuteTime": {
     "end_time": "2021-12-07T10:34:57.311778Z",
     "start_time": "2021-12-07T10:34:57.309562Z"
    }
   },
   "outputs": [],
   "source": [
    "ts_index=[i for i in range(1,2001)]"
   ]
  },
  {
   "cell_type": "code",
   "execution_count": 5,
   "id": "varied-handling",
   "metadata": {
    "ExecuteTime": {
     "end_time": "2021-12-07T10:34:57.316833Z",
     "start_time": "2021-12-07T10:34:57.314338Z"
    }
   },
   "outputs": [],
   "source": [
    "incremental_cd_df=pd.DataFrame({'start_point':[],\n",
    "                               'ending_point':[],\n",
    "                               'series':[]},\n",
    "                                dtype=object)"
   ]
  },
  {
   "cell_type": "code",
   "execution_count": 6,
   "id": "otherwise-enzyme",
   "metadata": {
    "ExecuteTime": {
     "end_time": "2021-12-07T10:34:57.331018Z",
     "start_time": "2021-12-07T10:34:57.318368Z"
    }
   },
   "outputs": [],
   "source": [
    "def incremental_cd_simulation(no_simulation):\n",
    "    for i in range(no_simulation):\n",
    "        # choice two sereis from original series \n",
    "        series_index=np.random.choice(ts_index,2)\n",
    "        ts1=ts_dict['ts_'+str(series_index[0])]\n",
    "        ts2=ts_dict['ts_'+str(series_index[1])]\n",
    "        \n",
    "        incremental_cd_list=[]\n",
    "        mixing_list=[]\n",
    "        \n",
    "        a=round(random.random()*len(ts1))\n",
    "        b=round(random.random()*len(ts1))\n",
    "        start_point,ending_point=sorted((a,b))\n",
    "        \n",
    "        incremental_cd_list.append(ts1[:start_point])\n",
    "        \n",
    "        ts_1_pick=ts1[start_point:ending_point]\n",
    "        ts_2_pick=ts2[start_point:ending_point]\n",
    "        \n",
    "        weight=list(x for x in range(ending_point-start_point))\n",
    "        weight=list(x/(ending_point-start_point) for x in weight)\n",
    "        belta=list(1-i for i in weight)\n",
    "        \n",
    "        for n in range(ending_point-start_point):\n",
    "            series=belta[n]*ts_1_pick[n]+weight[n]*ts_2_pick[n]\n",
    "            mixing_list.append(series)\n",
    "            \n",
    "        incremental_cd_list.append(mixing_list)\n",
    "            \n",
    "        incremental_cd_list.append(ts2[ending_point:])\n",
    "        \n",
    "        incremental_cd_list=list(itertools.chain.from_iterable(incremental_cd_list))\n",
    "\n",
    "        \n",
    "        incremental_cd_df.loc[i]={\n",
    "            'start_point':start_point,\n",
    "            'ending_point':ending_point,\n",
    "            'series':incremental_cd_list}\n",
    "    return incremental_cd_df"
   ]
  },
  {
   "cell_type": "code",
   "execution_count": 8,
   "id": "desperate-access",
   "metadata": {
    "ExecuteTime": {
     "end_time": "2021-12-07T10:35:04.655137Z",
     "start_time": "2021-12-07T10:34:59.630258Z"
    }
   },
   "outputs": [],
   "source": [
    "incremental_cd_df=incremental_cd_simulation(2000)"
   ]
  },
  {
   "cell_type": "code",
   "execution_count": 9,
   "id": "excellent-collapse",
   "metadata": {
    "ExecuteTime": {
     "end_time": "2021-12-07T10:35:10.981750Z",
     "start_time": "2021-12-07T10:35:07.535282Z"
    }
   },
   "outputs": [],
   "source": [
    "incremental_cd_df.to_csv('./simulated_data/incremental_cd.csv',index=False)"
   ]
  }
 ],
 "metadata": {
  "kernelspec": {
   "display_name": "Python 3 (ipykernel)",
   "language": "python",
   "name": "python3"
  },
  "language_info": {
   "codemirror_mode": {
    "name": "ipython",
    "version": 3
   },
   "file_extension": ".py",
   "mimetype": "text/x-python",
   "name": "python",
   "nbconvert_exporter": "python",
   "pygments_lexer": "ipython3",
   "version": "3.9.18"
  },
  "toc": {
   "base_numbering": 1,
   "nav_menu": {},
   "number_sections": true,
   "sideBar": true,
   "skip_h1_title": false,
   "title_cell": "Table of Contents",
   "title_sidebar": "Contents",
   "toc_cell": false,
   "toc_position": {},
   "toc_section_display": true,
   "toc_window_display": false
  }
 },
 "nbformat": 4,
 "nbformat_minor": 5
}
