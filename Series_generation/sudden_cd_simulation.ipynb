{
 "cells": [
  {
   "cell_type": "code",
   "execution_count": 2,
   "id": "front-professional",
   "metadata": {
    "ExecuteTime": {
     "end_time": "2021-12-06T07:46:13.467218Z",
     "start_time": "2021-12-06T07:46:13.045950Z"
    }
   },
   "outputs": [],
   "source": [
    "import pandas as pd\n",
    "import itertools\n",
    "import numpy as np\n",
    "import random\n",
    "from random import choices\n",
    "# from IPython.core.display import display, HTML"
   ]
  },
  {
   "cell_type": "code",
   "execution_count": 5,
   "id": "smooth-living",
   "metadata": {
    "ExecuteTime": {
     "end_time": "2021-12-06T07:46:21.341823Z",
     "start_time": "2021-12-06T07:46:21.337973Z"
    }
   },
   "outputs": [],
   "source": [
    "def ts_file_processor(file_name):\n",
    "    with open (file_name,'r') as ts_file:\n",
    "        ts=[]\n",
    "        for i in ts_file:\n",
    "            ts.append(i)\n",
    "    ts=ts[0].split(',')\n",
    "    ts=[float(ts[i]) for i in range(len(ts)) ]\n",
    "    return ts\n",
    "\n",
    "# file='./series/'\n",
    "file='./original_series/original_series_'\n",
    "names = locals()\n",
    "ts_dict={}\n",
    "for i in range(1,2001):\n",
    "    ts_dict['ts_'+str(i)]=ts_file_processor(file+str(i)+'.txt')\n",
    "\n",
    "ts_index=[i for i in range(1,2001)]\n",
    "\n",
    "sudden_df=pd.DataFrame({'drift_point':[],\n",
    "                       'series':[]},\n",
    "                      dtype=object)"
   ]
  },
  {
   "cell_type": "code",
   "execution_count": 6,
   "id": "continent-exposure",
   "metadata": {
    "ExecuteTime": {
     "end_time": "2021-12-06T08:09:12.855949Z",
     "start_time": "2021-12-06T08:09:12.852687Z"
    }
   },
   "outputs": [],
   "source": [
    "def sudden_cd_simulation(no_simulation):\n",
    "    for row in range(no_simulation):\n",
    "        #create a new list to sotre series\n",
    "        sudden_cd_list=[]\n",
    "        # choice two sereis from original series \n",
    "        series_index=np.random.choice(ts_index,2)\n",
    "        ts1=ts_dict['ts_'+str(series_index[0])]\n",
    "        ts2=ts_dict['ts_'+str(series_index[1])]\n",
    "        # generate drift point\n",
    "        drift_point=random.randint(10,1970)\n",
    "        ts_1_points=ts1[:drift_point]\n",
    "        ts_2_points=ts2[drift_point:]\n",
    "        sudden_cd_list.append(ts_1_points)\n",
    "        sudden_cd_list.append(ts_2_points)\n",
    "        sudden_cd_list=list(itertools.chain.from_iterable(sudden_cd_list))\n",
    "        \n",
    "        sudden_df.loc[row]={'drift_point':drift_point,\n",
    "                          'series':sudden_cd_list}\n",
    "    return sudden_df"
   ]
  },
  {
   "cell_type": "code",
   "execution_count": 27,
   "id": "latest-emergency",
   "metadata": {
    "ExecuteTime": {
     "end_time": "2021-12-06T08:09:17.137934Z",
     "start_time": "2021-12-06T08:09:13.035787Z"
    }
   },
   "outputs": [],
   "source": [
    "sudden_df = sudden_cd_simulation(2000)"
   ]
  },
  {
   "cell_type": "code",
   "execution_count": 28,
   "id": "b34871dd",
   "metadata": {},
   "outputs": [
    {
     "data": {
      "text/html": [
       "<div>\n",
       "<style scoped>\n",
       "    .dataframe tbody tr th:only-of-type {\n",
       "        vertical-align: middle;\n",
       "    }\n",
       "\n",
       "    .dataframe tbody tr th {\n",
       "        vertical-align: top;\n",
       "    }\n",
       "\n",
       "    .dataframe thead th {\n",
       "        text-align: right;\n",
       "    }\n",
       "</style>\n",
       "<table border=\"1\" class=\"dataframe\">\n",
       "  <thead>\n",
       "    <tr style=\"text-align: right;\">\n",
       "      <th></th>\n",
       "      <th>drift_point</th>\n",
       "      <th>series</th>\n",
       "    </tr>\n",
       "  </thead>\n",
       "  <tbody>\n",
       "    <tr>\n",
       "      <th>0</th>\n",
       "      <td>1874</td>\n",
       "      <td>[4.45163119388972, 3.37748353997106, 5.3080252...</td>\n",
       "    </tr>\n",
       "    <tr>\n",
       "      <th>1</th>\n",
       "      <td>491</td>\n",
       "      <td>[3.12319842051687, 5.1948379230517, 3.17844307...</td>\n",
       "    </tr>\n",
       "    <tr>\n",
       "      <th>2</th>\n",
       "      <td>976</td>\n",
       "      <td>[4.51879716459216, 2.75210556404716, 5.1495955...</td>\n",
       "    </tr>\n",
       "    <tr>\n",
       "      <th>3</th>\n",
       "      <td>1163</td>\n",
       "      <td>[4.28846472274756, 4.61367419791986, 4.9340177...</td>\n",
       "    </tr>\n",
       "    <tr>\n",
       "      <th>4</th>\n",
       "      <td>1354</td>\n",
       "      <td>[5.0660581939012, 3.26989907689812, 3.92558380...</td>\n",
       "    </tr>\n",
       "    <tr>\n",
       "      <th>...</th>\n",
       "      <td>...</td>\n",
       "      <td>...</td>\n",
       "    </tr>\n",
       "    <tr>\n",
       "      <th>1995</th>\n",
       "      <td>1927</td>\n",
       "      <td>[4.20186260466426, 4.50178284480851, 5.1218355...</td>\n",
       "    </tr>\n",
       "    <tr>\n",
       "      <th>1996</th>\n",
       "      <td>682</td>\n",
       "      <td>[5.22140491427556, 6.30193943717263, 6.2378947...</td>\n",
       "    </tr>\n",
       "    <tr>\n",
       "      <th>1997</th>\n",
       "      <td>1645</td>\n",
       "      <td>[4.01613259376028, 3.82349649368322, 6.6372180...</td>\n",
       "    </tr>\n",
       "    <tr>\n",
       "      <th>1998</th>\n",
       "      <td>1772</td>\n",
       "      <td>[3.68338513198452, 5.05909971207184, 3.9744288...</td>\n",
       "    </tr>\n",
       "    <tr>\n",
       "      <th>1999</th>\n",
       "      <td>1149</td>\n",
       "      <td>[4.79605921471365, 4.56191900628881, 5.4723277...</td>\n",
       "    </tr>\n",
       "  </tbody>\n",
       "</table>\n",
       "<p>2000 rows × 2 columns</p>\n",
       "</div>"
      ],
      "text/plain": [
       "      drift_point                                             series\n",
       "0            1874  [4.45163119388972, 3.37748353997106, 5.3080252...\n",
       "1             491  [3.12319842051687, 5.1948379230517, 3.17844307...\n",
       "2             976  [4.51879716459216, 2.75210556404716, 5.1495955...\n",
       "3            1163  [4.28846472274756, 4.61367419791986, 4.9340177...\n",
       "4            1354  [5.0660581939012, 3.26989907689812, 3.92558380...\n",
       "...           ...                                                ...\n",
       "1995         1927  [4.20186260466426, 4.50178284480851, 5.1218355...\n",
       "1996          682  [5.22140491427556, 6.30193943717263, 6.2378947...\n",
       "1997         1645  [4.01613259376028, 3.82349649368322, 6.6372180...\n",
       "1998         1772  [3.68338513198452, 5.05909971207184, 3.9744288...\n",
       "1999         1149  [4.79605921471365, 4.56191900628881, 5.4723277...\n",
       "\n",
       "[2000 rows x 2 columns]"
      ]
     },
     "execution_count": 28,
     "metadata": {},
     "output_type": "execute_result"
    }
   ],
   "source": [
    "sudden_df"
   ]
  },
  {
   "cell_type": "code",
   "execution_count": 31,
   "id": "representative-coaching",
   "metadata": {
    "ExecuteTime": {
     "end_time": "2021-12-06T08:11:50.534680Z",
     "start_time": "2021-12-06T08:11:46.958368Z"
    }
   },
   "outputs": [],
   "source": [
    "sudden_df.to_csv('./simulated_data/sudden_df.csv', index=False,\n",
    "                 date_format={'drift_point': int,'series': list},sep=',')"
   ]
  }
 ],
 "metadata": {
  "kernelspec": {
   "display_name": "Python 3 (ipykernel)",
   "language": "python",
   "name": "python3"
  },
  "language_info": {
   "codemirror_mode": {
    "name": "ipython",
    "version": 3
   },
   "file_extension": ".py",
   "mimetype": "text/x-python",
   "name": "python",
   "nbconvert_exporter": "python",
   "pygments_lexer": "ipython3",
   "version": "3.9.18"
  },
  "toc": {
   "base_numbering": 1,
   "nav_menu": {},
   "number_sections": true,
   "sideBar": true,
   "skip_h1_title": false,
   "title_cell": "Table of Contents",
   "title_sidebar": "Contents",
   "toc_cell": false,
   "toc_position": {},
   "toc_section_display": true,
   "toc_window_display": false
  }
 },
 "nbformat": 4,
 "nbformat_minor": 5
}
